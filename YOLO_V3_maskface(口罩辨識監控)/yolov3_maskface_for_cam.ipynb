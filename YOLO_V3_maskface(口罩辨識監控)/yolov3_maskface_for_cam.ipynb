{
 "cells": [
  {
   "cell_type": "code",
   "execution_count": 1,
   "metadata": {},
   "outputs": [],
   "source": [
    "import cv2\r\n",
    "import numpy as np\r\n",
    "net = cv2.dnn.readNetFromDarknet(\"yolov3.cfg\",\"yolov3_1100.weights\")\r\n",
    "layer_names = net.getLayerNames()\r\n",
    "output_layers = [layer_names[i[0] - 1] for i in net.getUnconnectedOutLayers()]\r\n",
    "classes = [line.strip() for line in open(\"cfg_mask/obj.names\")]\r\n",
    "colors = [(0,0,255),(255,0,0),(0,255,0)]\r\n",
    "\r\n",
    "def yolo_detect(frame):\r\n",
    "    # forward propogation\r\n",
    "    img = cv2.resize(frame, None, fx=0.4, fy=0.4)\r\n",
    "    height, width, channels = img.shape \r\n",
    "    blob = cv2.dnn.blobFromImage(img, 1/255.0, (416, 416), (0, 0, 0), True, crop=False)\r\n",
    "    net.setInput(blob)\r\n",
    "    outs = net.forward(output_layers)\r\n",
    "\r\n",
    "    # get detection boxes\r\n",
    "    class_ids = []\r\n",
    "    confidences = []\r\n",
    "    boxes = []\r\n",
    "    \r\n",
    "    for out in outs:\r\n",
    "        for detection in out:\r\n",
    "            tx, ty, tw, th, confidence = detection[0:5]\r\n",
    "            scores = detection[5:]\r\n",
    "            class_id = np.argmax(scores)  \r\n",
    "            if confidence > 0.3:   \r\n",
    "                center_x = int(tx * width)\r\n",
    "                center_y = int(ty * height)\r\n",
    "                w = int(tw * width)\r\n",
    "                h = int(th * height)\r\n",
    "\r\n",
    "                # 取得箱子方框座標\r\n",
    "                x = int(center_x - w / 2)\r\n",
    "                y = int(center_y - h / 2)\r\n",
    "                boxes.append([x, y, w, h])\r\n",
    "                confidences.append(float(confidence))\r\n",
    "                class_ids.append(class_id)\r\n",
    "                \r\n",
    "    # draw boxes\r\n",
    "    indexes = cv2.dnn.NMSBoxes(boxes, confidences, 0.3, 0.4)\r\n",
    "    font = cv2.FONT_HERSHEY_PLAIN\r\n",
    "    for i in range(len(boxes)):\r\n",
    "        if i in indexes:\r\n",
    "            x, y, w, h = boxes[i]\r\n",
    "            label = str(classes[class_ids[i]])\r\n",
    "            color = colors[class_ids[i]]\r\n",
    "            cv2.rectangle(img, (x, y), (x + w, y + h), color, 2)\r\n",
    "            cv2.putText(img, label, (x, y -5), font, 3, color, 3)\r\n",
    "    return img"
   ]
  },
  {
   "cell_type": "code",
   "execution_count": 2,
   "metadata": {},
   "outputs": [],
   "source": [
    "import cv2\r\n",
    "import imutils\r\n",
    "import time\r\n",
    "\r\n",
    "VIDEO_IN = cv2.VideoCapture(0)\r\n",
    "\r\n",
    "while True:\r\n",
    "    hasFrame, frame = VIDEO_IN.read()\r\n",
    "    \r\n",
    "    img = yolo_detect(frame)\r\n",
    "    cv2.imshow(\"Frame\", imutils.resize(img, width=850))\r\n",
    "\r\n",
    "    if cv2.waitKey(1) & 0xFF == ord('q'):\r\n",
    "        break\r\n",
    "        \r\n",
    "VIDEO_IN.release()\r\n",
    "cv2.destroyAllWindows()"
   ]
  }
 ],
 "metadata": {
  "kernelspec": {
   "display_name": "Python 3.8.8 64-bit",
   "name": "python388jvsc74a57bd0e9e6adcb25460e4998fc6026de387571d5c247dcae94a50d2d71dc748793017f"
  },
  "language_info": {
   "codemirror_mode": {
    "name": "ipython",
    "version": 3
   },
   "file_extension": ".py",
   "mimetype": "text/x-python",
   "name": "python",
   "nbconvert_exporter": "python",
   "pygments_lexer": "ipython3",
   "version": "3.8.8"
  },
  "metadata": {
   "interpreter": {
    "hash": "e9e6adcb25460e4998fc6026de387571d5c247dcae94a50d2d71dc748793017f"
   }
  },
  "orig_nbformat": 2
 },
 "nbformat": 4,
 "nbformat_minor": 2
}